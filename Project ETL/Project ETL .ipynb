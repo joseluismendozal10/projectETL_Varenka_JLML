{
 "cells": [
  {
   "cell_type": "code",
   "execution_count": 1,
   "metadata": {},
   "outputs": [],
   "source": [
    "import pandas as pd\n",
    "from sqlalchemy import create_engine\n",
    "import requests\n",
    "from bs4 import BeautifulSoup as bs\n",
    "import matplotlib.pyplot as plt\n",
    "import numpy as np"
   ]
  },
  {
   "cell_type": "code",
   "execution_count": 2,
   "metadata": {},
   "outputs": [],
   "source": [
    "url_cities=\"http://worldpopulationreview.com/world-cities/\""
   ]
  },
  {
   "cell_type": "code",
   "execution_count": 3,
   "metadata": {},
   "outputs": [
    {
     "data": {
      "text/plain": [
       "<Response [200]>"
      ]
     },
     "execution_count": 3,
     "metadata": {},
     "output_type": "execute_result"
    }
   ],
   "source": [
    "response=requests.get(url_cities)\n",
    "response"
   ]
  },
  {
   "cell_type": "code",
   "execution_count": 50,
   "metadata": {},
   "outputs": [
    {
     "name": "stderr",
     "output_type": "stream",
     "text": [
      "C:\\Users\\Jose L. Mendoza\\Anaconda3\\lib\\site-packages\\ipykernel_launcher.py:6: SettingWithCopyWarning: \n",
      "A value is trying to be set on a copy of a slice from a DataFrame.\n",
      "Try using .loc[row_indexer,col_indexer] = value instead\n",
      "\n",
      "See the caveats in the documentation: http://pandas.pydata.org/pandas-docs/stable/indexing.html#indexing-view-versus-copy\n",
      "  \n"
     ]
    },
    {
     "data": {
      "text/html": [
       "<div>\n",
       "<style scoped>\n",
       "    .dataframe tbody tr th:only-of-type {\n",
       "        vertical-align: middle;\n",
       "    }\n",
       "\n",
       "    .dataframe tbody tr th {\n",
       "        vertical-align: top;\n",
       "    }\n",
       "\n",
       "    .dataframe thead th {\n",
       "        text-align: right;\n",
       "    }\n",
       "</style>\n",
       "<table border=\"1\" class=\"dataframe\">\n",
       "  <thead>\n",
       "    <tr style=\"text-align: right;\">\n",
       "      <th></th>\n",
       "      <th>Rank</th>\n",
       "      <th>Name</th>\n",
       "      <th>2019 Population</th>\n",
       "      <th>2018 Population</th>\n",
       "      <th>Change</th>\n",
       "    </tr>\n",
       "  </thead>\n",
       "  <tbody>\n",
       "    <tr>\n",
       "      <th>0</th>\n",
       "      <td>1</td>\n",
       "      <td>Tokyo</td>\n",
       "      <td>37435191</td>\n",
       "      <td>37468302</td>\n",
       "      <td>-0.09%</td>\n",
       "    </tr>\n",
       "    <tr>\n",
       "      <th>1</th>\n",
       "      <td>2</td>\n",
       "      <td>Delhi</td>\n",
       "      <td>29399141</td>\n",
       "      <td>28513682</td>\n",
       "      <td>3.11%</td>\n",
       "    </tr>\n",
       "    <tr>\n",
       "      <th>2</th>\n",
       "      <td>3</td>\n",
       "      <td>Shanghai</td>\n",
       "      <td>26317104</td>\n",
       "      <td>25582138</td>\n",
       "      <td>2.87%</td>\n",
       "    </tr>\n",
       "    <tr>\n",
       "      <th>3</th>\n",
       "      <td>4</td>\n",
       "      <td>Sao Paulo</td>\n",
       "      <td>21846507</td>\n",
       "      <td>21650181</td>\n",
       "      <td>0.91%</td>\n",
       "    </tr>\n",
       "    <tr>\n",
       "      <th>4</th>\n",
       "      <td>5</td>\n",
       "      <td>Mexico City</td>\n",
       "      <td>21671908</td>\n",
       "      <td>21580827</td>\n",
       "      <td>0.42%</td>\n",
       "    </tr>\n",
       "    <tr>\n",
       "      <th>5</th>\n",
       "      <td>6</td>\n",
       "      <td>Cairo</td>\n",
       "      <td>20484965</td>\n",
       "      <td>20076002</td>\n",
       "      <td>2.04%</td>\n",
       "    </tr>\n",
       "    <tr>\n",
       "      <th>6</th>\n",
       "      <td>7</td>\n",
       "      <td>Dhaka</td>\n",
       "      <td>20283552</td>\n",
       "      <td>19578421</td>\n",
       "      <td>3.60%</td>\n",
       "    </tr>\n",
       "    <tr>\n",
       "      <th>7</th>\n",
       "      <td>8</td>\n",
       "      <td>Bombay</td>\n",
       "      <td>20185064</td>\n",
       "      <td>19979955</td>\n",
       "      <td>1.03%</td>\n",
       "    </tr>\n",
       "    <tr>\n",
       "      <th>8</th>\n",
       "      <td>9</td>\n",
       "      <td>Beijing</td>\n",
       "      <td>20035455</td>\n",
       "      <td>19617963</td>\n",
       "      <td>2.13%</td>\n",
       "    </tr>\n",
       "    <tr>\n",
       "      <th>9</th>\n",
       "      <td>10</td>\n",
       "      <td>Osaka</td>\n",
       "      <td>19222665</td>\n",
       "      <td>19281188</td>\n",
       "      <td>-0.30%</td>\n",
       "    </tr>\n",
       "    <tr>\n",
       "      <th>10</th>\n",
       "      <td>11</td>\n",
       "      <td>Karachi</td>\n",
       "      <td>15741406</td>\n",
       "      <td>15400223</td>\n",
       "      <td>2.22%</td>\n",
       "    </tr>\n",
       "  </tbody>\n",
       "</table>\n",
       "</div>"
      ],
      "text/plain": [
       "    Rank         Name  2019 Population  2018 Population  Change\n",
       "0      1        Tokyo         37435191         37468302  -0.09%\n",
       "1      2        Delhi         29399141         28513682   3.11%\n",
       "2      3     Shanghai         26317104         25582138   2.87%\n",
       "3      4    Sao Paulo         21846507         21650181   0.91%\n",
       "4      5  Mexico City         21671908         21580827   0.42%\n",
       "5      6        Cairo         20484965         20076002   2.04%\n",
       "6      7        Dhaka         20283552         19578421   3.60%\n",
       "7      8       Bombay         20185064         19979955   1.03%\n",
       "8      9      Beijing         20035455         19617963   2.13%\n",
       "9     10        Osaka         19222665         19281188  -0.30%\n",
       "10    11      Karachi         15741406         15400223   2.22%"
      ]
     },
     "execution_count": 50,
     "metadata": {},
     "output_type": "execute_result"
    }
   ],
   "source": [
    "soup=bs(response.content,\"html.parser\")\n",
    "html_table=soup.find_all(\"table\")\n",
    "table=pd.read_html(str(html_table))\n",
    "top_11=table[0].loc[table[0][\"Rank\"]<12,:]\n",
    "top_11\n",
    "top_11[\"Name\"] = top_11[\"Name\"].str.replace(\"Mumbai\",\"Bombay\")\n",
    "top_11"
   ]
  },
  {
   "cell_type": "code",
   "execution_count": 51,
   "metadata": {},
   "outputs": [
    {
     "data": {
      "text/plain": [
       "['Tokyo',\n",
       " 'Delhi',\n",
       " 'Shanghai',\n",
       " 'Sao Paulo',\n",
       " 'Mexico City',\n",
       " 'Cairo',\n",
       " 'Dhaka',\n",
       " 'Bombay',\n",
       " 'Beijing',\n",
       " 'Osaka',\n",
       " 'Karachi']"
      ]
     },
     "execution_count": 51,
     "metadata": {},
     "output_type": "execute_result"
    }
   ],
   "source": [
    "cities=top_11[\"Name\"].tolist()\n",
    "cities"
   ]
  },
  {
   "cell_type": "code",
   "execution_count": 56,
   "metadata": {},
   "outputs": [],
   "source": [
    "temperature_major_city=pd.read_csv(\"GlobalLandTemperaturesByMajorCity.csv\")"
   ]
  },
  {
   "cell_type": "code",
   "execution_count": 57,
   "metadata": {},
   "outputs": [
    {
     "data": {
      "text/html": [
       "<div>\n",
       "<style scoped>\n",
       "    .dataframe tbody tr th:only-of-type {\n",
       "        vertical-align: middle;\n",
       "    }\n",
       "\n",
       "    .dataframe tbody tr th {\n",
       "        vertical-align: top;\n",
       "    }\n",
       "\n",
       "    .dataframe thead th {\n",
       "        text-align: right;\n",
       "    }\n",
       "</style>\n",
       "<table border=\"1\" class=\"dataframe\">\n",
       "  <thead>\n",
       "    <tr style=\"text-align: right;\">\n",
       "      <th></th>\n",
       "      <th>dt</th>\n",
       "      <th>AverageTemperature</th>\n",
       "      <th>AverageTemperatureUncertainty</th>\n",
       "      <th>City</th>\n",
       "      <th>Country</th>\n",
       "      <th>Latitude</th>\n",
       "      <th>Longitude</th>\n",
       "    </tr>\n",
       "  </thead>\n",
       "  <tbody>\n",
       "    <tr>\n",
       "      <th>0</th>\n",
       "      <td>1849-01-01</td>\n",
       "      <td>26.704</td>\n",
       "      <td>1.435</td>\n",
       "      <td>Abidjan</td>\n",
       "      <td>Côte D'Ivoire</td>\n",
       "      <td>5.63N</td>\n",
       "      <td>3.23W</td>\n",
       "    </tr>\n",
       "    <tr>\n",
       "      <th>1</th>\n",
       "      <td>1849-02-01</td>\n",
       "      <td>27.434</td>\n",
       "      <td>1.362</td>\n",
       "      <td>Abidjan</td>\n",
       "      <td>Côte D'Ivoire</td>\n",
       "      <td>5.63N</td>\n",
       "      <td>3.23W</td>\n",
       "    </tr>\n",
       "    <tr>\n",
       "      <th>2</th>\n",
       "      <td>1849-03-01</td>\n",
       "      <td>28.101</td>\n",
       "      <td>1.612</td>\n",
       "      <td>Abidjan</td>\n",
       "      <td>Côte D'Ivoire</td>\n",
       "      <td>5.63N</td>\n",
       "      <td>3.23W</td>\n",
       "    </tr>\n",
       "    <tr>\n",
       "      <th>3</th>\n",
       "      <td>1849-04-01</td>\n",
       "      <td>26.140</td>\n",
       "      <td>1.387</td>\n",
       "      <td>Abidjan</td>\n",
       "      <td>Côte D'Ivoire</td>\n",
       "      <td>5.63N</td>\n",
       "      <td>3.23W</td>\n",
       "    </tr>\n",
       "    <tr>\n",
       "      <th>4</th>\n",
       "      <td>1849-05-01</td>\n",
       "      <td>25.427</td>\n",
       "      <td>1.200</td>\n",
       "      <td>Abidjan</td>\n",
       "      <td>Côte D'Ivoire</td>\n",
       "      <td>5.63N</td>\n",
       "      <td>3.23W</td>\n",
       "    </tr>\n",
       "  </tbody>\n",
       "</table>\n",
       "</div>"
      ],
      "text/plain": [
       "           dt  AverageTemperature  AverageTemperatureUncertainty     City  \\\n",
       "0  1849-01-01              26.704                          1.435  Abidjan   \n",
       "1  1849-02-01              27.434                          1.362  Abidjan   \n",
       "2  1849-03-01              28.101                          1.612  Abidjan   \n",
       "3  1849-04-01              26.140                          1.387  Abidjan   \n",
       "4  1849-05-01              25.427                          1.200  Abidjan   \n",
       "\n",
       "         Country Latitude Longitude  \n",
       "0  Côte D'Ivoire    5.63N     3.23W  \n",
       "1  Côte D'Ivoire    5.63N     3.23W  \n",
       "2  Côte D'Ivoire    5.63N     3.23W  \n",
       "3  Côte D'Ivoire    5.63N     3.23W  \n",
       "4  Côte D'Ivoire    5.63N     3.23W  "
      ]
     },
     "execution_count": 57,
     "metadata": {},
     "output_type": "execute_result"
    }
   ],
   "source": [
    "temperature_major_city.head()"
   ]
  },
  {
   "cell_type": "code",
   "execution_count": 58,
   "metadata": {},
   "outputs": [
    {
     "data": {
      "text/html": [
       "<div>\n",
       "<style scoped>\n",
       "    .dataframe tbody tr th:only-of-type {\n",
       "        vertical-align: middle;\n",
       "    }\n",
       "\n",
       "    .dataframe tbody tr th {\n",
       "        vertical-align: top;\n",
       "    }\n",
       "\n",
       "    .dataframe thead th {\n",
       "        text-align: right;\n",
       "    }\n",
       "</style>\n",
       "<table border=\"1\" class=\"dataframe\">\n",
       "  <thead>\n",
       "    <tr style=\"text-align: right;\">\n",
       "      <th></th>\n",
       "      <th>dt</th>\n",
       "      <th>AverageTemperature</th>\n",
       "      <th>AverageTemperatureUncertainty</th>\n",
       "      <th>City</th>\n",
       "      <th>Country</th>\n",
       "      <th>Latitude</th>\n",
       "      <th>Longitude</th>\n",
       "      <th>Year</th>\n",
       "    </tr>\n",
       "  </thead>\n",
       "  <tbody>\n",
       "    <tr>\n",
       "      <th>0</th>\n",
       "      <td>1849-01-01</td>\n",
       "      <td>26.704</td>\n",
       "      <td>1.435</td>\n",
       "      <td>Abidjan</td>\n",
       "      <td>Côte D'Ivoire</td>\n",
       "      <td>5.63N</td>\n",
       "      <td>3.23W</td>\n",
       "      <td>1849</td>\n",
       "    </tr>\n",
       "    <tr>\n",
       "      <th>1</th>\n",
       "      <td>1849-02-01</td>\n",
       "      <td>27.434</td>\n",
       "      <td>1.362</td>\n",
       "      <td>Abidjan</td>\n",
       "      <td>Côte D'Ivoire</td>\n",
       "      <td>5.63N</td>\n",
       "      <td>3.23W</td>\n",
       "      <td>1849</td>\n",
       "    </tr>\n",
       "    <tr>\n",
       "      <th>2</th>\n",
       "      <td>1849-03-01</td>\n",
       "      <td>28.101</td>\n",
       "      <td>1.612</td>\n",
       "      <td>Abidjan</td>\n",
       "      <td>Côte D'Ivoire</td>\n",
       "      <td>5.63N</td>\n",
       "      <td>3.23W</td>\n",
       "      <td>1849</td>\n",
       "    </tr>\n",
       "    <tr>\n",
       "      <th>3</th>\n",
       "      <td>1849-04-01</td>\n",
       "      <td>26.140</td>\n",
       "      <td>1.387</td>\n",
       "      <td>Abidjan</td>\n",
       "      <td>Côte D'Ivoire</td>\n",
       "      <td>5.63N</td>\n",
       "      <td>3.23W</td>\n",
       "      <td>1849</td>\n",
       "    </tr>\n",
       "    <tr>\n",
       "      <th>4</th>\n",
       "      <td>1849-05-01</td>\n",
       "      <td>25.427</td>\n",
       "      <td>1.200</td>\n",
       "      <td>Abidjan</td>\n",
       "      <td>Côte D'Ivoire</td>\n",
       "      <td>5.63N</td>\n",
       "      <td>3.23W</td>\n",
       "      <td>1849</td>\n",
       "    </tr>\n",
       "  </tbody>\n",
       "</table>\n",
       "</div>"
      ],
      "text/plain": [
       "           dt  AverageTemperature  AverageTemperatureUncertainty     City  \\\n",
       "0  1849-01-01              26.704                          1.435  Abidjan   \n",
       "1  1849-02-01              27.434                          1.362  Abidjan   \n",
       "2  1849-03-01              28.101                          1.612  Abidjan   \n",
       "3  1849-04-01              26.140                          1.387  Abidjan   \n",
       "4  1849-05-01              25.427                          1.200  Abidjan   \n",
       "\n",
       "         Country Latitude Longitude  Year  \n",
       "0  Côte D'Ivoire    5.63N     3.23W  1849  \n",
       "1  Côte D'Ivoire    5.63N     3.23W  1849  \n",
       "2  Côte D'Ivoire    5.63N     3.23W  1849  \n",
       "3  Côte D'Ivoire    5.63N     3.23W  1849  \n",
       "4  Côte D'Ivoire    5.63N     3.23W  1849  "
      ]
     },
     "execution_count": 58,
     "metadata": {},
     "output_type": "execute_result"
    }
   ],
   "source": [
    "temperature_major_city['Year'] = pd.DatetimeIndex(temperature_major_city['dt']).year \n",
    "temperature_major_city.head()"
   ]
  },
  {
   "cell_type": "code",
   "execution_count": 59,
   "metadata": {},
   "outputs": [
    {
     "data": {
      "text/html": [
       "<div>\n",
       "<style scoped>\n",
       "    .dataframe tbody tr th:only-of-type {\n",
       "        vertical-align: middle;\n",
       "    }\n",
       "\n",
       "    .dataframe tbody tr th {\n",
       "        vertical-align: top;\n",
       "    }\n",
       "\n",
       "    .dataframe thead th {\n",
       "        text-align: right;\n",
       "    }\n",
       "</style>\n",
       "<table border=\"1\" class=\"dataframe\">\n",
       "  <thead>\n",
       "    <tr style=\"text-align: right;\">\n",
       "      <th></th>\n",
       "      <th>dt</th>\n",
       "      <th>AverageTemperature</th>\n",
       "      <th>AverageTemperatureUncertainty</th>\n",
       "      <th>City</th>\n",
       "      <th>Country</th>\n",
       "      <th>Latitude</th>\n",
       "      <th>Longitude</th>\n",
       "      <th>Year</th>\n",
       "    </tr>\n",
       "  </thead>\n",
       "  <tbody>\n",
       "    <tr>\n",
       "      <th>0</th>\n",
       "      <td>1849-01-01</td>\n",
       "      <td>26.704</td>\n",
       "      <td>1.435</td>\n",
       "      <td>Abidjan</td>\n",
       "      <td>Côte D'Ivoire</td>\n",
       "      <td>5.63N</td>\n",
       "      <td>3.23W</td>\n",
       "      <td>1849</td>\n",
       "    </tr>\n",
       "    <tr>\n",
       "      <th>1</th>\n",
       "      <td>1849-02-01</td>\n",
       "      <td>27.434</td>\n",
       "      <td>1.362</td>\n",
       "      <td>Abidjan</td>\n",
       "      <td>Côte D'Ivoire</td>\n",
       "      <td>5.63N</td>\n",
       "      <td>3.23W</td>\n",
       "      <td>1849</td>\n",
       "    </tr>\n",
       "    <tr>\n",
       "      <th>2</th>\n",
       "      <td>1849-03-01</td>\n",
       "      <td>28.101</td>\n",
       "      <td>1.612</td>\n",
       "      <td>Abidjan</td>\n",
       "      <td>Côte D'Ivoire</td>\n",
       "      <td>5.63N</td>\n",
       "      <td>3.23W</td>\n",
       "      <td>1849</td>\n",
       "    </tr>\n",
       "    <tr>\n",
       "      <th>3</th>\n",
       "      <td>1849-04-01</td>\n",
       "      <td>26.140</td>\n",
       "      <td>1.387</td>\n",
       "      <td>Abidjan</td>\n",
       "      <td>Côte D'Ivoire</td>\n",
       "      <td>5.63N</td>\n",
       "      <td>3.23W</td>\n",
       "      <td>1849</td>\n",
       "    </tr>\n",
       "    <tr>\n",
       "      <th>4</th>\n",
       "      <td>1849-05-01</td>\n",
       "      <td>25.427</td>\n",
       "      <td>1.200</td>\n",
       "      <td>Abidjan</td>\n",
       "      <td>Côte D'Ivoire</td>\n",
       "      <td>5.63N</td>\n",
       "      <td>3.23W</td>\n",
       "      <td>1849</td>\n",
       "    </tr>\n",
       "  </tbody>\n",
       "</table>\n",
       "</div>"
      ],
      "text/plain": [
       "           dt  AverageTemperature  AverageTemperatureUncertainty     City  \\\n",
       "0  1849-01-01              26.704                          1.435  Abidjan   \n",
       "1  1849-02-01              27.434                          1.362  Abidjan   \n",
       "2  1849-03-01              28.101                          1.612  Abidjan   \n",
       "3  1849-04-01              26.140                          1.387  Abidjan   \n",
       "4  1849-05-01              25.427                          1.200  Abidjan   \n",
       "\n",
       "         Country Latitude Longitude  Year  \n",
       "0  Côte D'Ivoire    5.63N     3.23W  1849  \n",
       "1  Côte D'Ivoire    5.63N     3.23W  1849  \n",
       "2  Côte D'Ivoire    5.63N     3.23W  1849  \n",
       "3  Côte D'Ivoire    5.63N     3.23W  1849  \n",
       "4  Côte D'Ivoire    5.63N     3.23W  1849  "
      ]
     },
     "execution_count": 59,
     "metadata": {},
     "output_type": "execute_result"
    }
   ],
   "source": [
    "temperature_major_city[\"City\"]=temperature_major_city[\"City\"].str.replace(\"Mexico\",\"Mexico City\")\n",
    "temperature_major_city[\"City\"]=temperature_major_city[\"City\"].str.replace(\"São Paulo\", \"Sao Paulo\")\n",
    "temperature_major_city[\"City\"]=temperature_major_city[\"City\"].str.replace(\"Peking\",\"Beijing\")\n",
    "\n",
    "temperature_major_city.head()"
   ]
  },
  {
   "cell_type": "code",
   "execution_count": 60,
   "metadata": {},
   "outputs": [],
   "source": [
    "cities_df=temperature_major_city.loc[temperature_major_city[\"City\"].isin(cities),:]\n",
    "#list=[\"Tokyo\",\"Delhi\",\"Shanghai\",\"São Paulo\",\"Mexico\",\"Cairo\",\"Bombay\",\"Peking\",\"Dhaka\",\"Karachi\"]"
   ]
  },
  {
   "cell_type": "code",
   "execution_count": 61,
   "metadata": {},
   "outputs": [
    {
     "data": {
      "text/html": [
       "<div>\n",
       "<style scoped>\n",
       "    .dataframe tbody tr th:only-of-type {\n",
       "        vertical-align: middle;\n",
       "    }\n",
       "\n",
       "    .dataframe tbody tr th {\n",
       "        vertical-align: top;\n",
       "    }\n",
       "\n",
       "    .dataframe thead th {\n",
       "        text-align: right;\n",
       "    }\n",
       "</style>\n",
       "<table border=\"1\" class=\"dataframe\">\n",
       "  <thead>\n",
       "    <tr style=\"text-align: right;\">\n",
       "      <th></th>\n",
       "      <th>dt</th>\n",
       "      <th>AverageTemperature</th>\n",
       "      <th>AverageTemperatureUncertainty</th>\n",
       "      <th>City</th>\n",
       "      <th>Country</th>\n",
       "      <th>Latitude</th>\n",
       "      <th>Longitude</th>\n",
       "      <th>Year</th>\n",
       "    </tr>\n",
       "  </thead>\n",
       "  <tbody>\n",
       "    <tr>\n",
       "      <th>30016</th>\n",
       "      <td>1796-01-01</td>\n",
       "      <td>24.317</td>\n",
       "      <td>2.190</td>\n",
       "      <td>Bombay</td>\n",
       "      <td>India</td>\n",
       "      <td>18.48N</td>\n",
       "      <td>72.68E</td>\n",
       "      <td>1796</td>\n",
       "    </tr>\n",
       "    <tr>\n",
       "      <th>30017</th>\n",
       "      <td>1796-02-01</td>\n",
       "      <td>23.923</td>\n",
       "      <td>1.484</td>\n",
       "      <td>Bombay</td>\n",
       "      <td>India</td>\n",
       "      <td>18.48N</td>\n",
       "      <td>72.68E</td>\n",
       "      <td>1796</td>\n",
       "    </tr>\n",
       "    <tr>\n",
       "      <th>30018</th>\n",
       "      <td>1796-03-01</td>\n",
       "      <td>24.407</td>\n",
       "      <td>2.309</td>\n",
       "      <td>Bombay</td>\n",
       "      <td>India</td>\n",
       "      <td>18.48N</td>\n",
       "      <td>72.68E</td>\n",
       "      <td>1796</td>\n",
       "    </tr>\n",
       "    <tr>\n",
       "      <th>30019</th>\n",
       "      <td>1796-04-01</td>\n",
       "      <td>27.171</td>\n",
       "      <td>1.650</td>\n",
       "      <td>Bombay</td>\n",
       "      <td>India</td>\n",
       "      <td>18.48N</td>\n",
       "      <td>72.68E</td>\n",
       "      <td>1796</td>\n",
       "    </tr>\n",
       "    <tr>\n",
       "      <th>30020</th>\n",
       "      <td>1796-05-01</td>\n",
       "      <td>29.050</td>\n",
       "      <td>1.290</td>\n",
       "      <td>Bombay</td>\n",
       "      <td>India</td>\n",
       "      <td>18.48N</td>\n",
       "      <td>72.68E</td>\n",
       "      <td>1796</td>\n",
       "    </tr>\n",
       "  </tbody>\n",
       "</table>\n",
       "</div>"
      ],
      "text/plain": [
       "               dt  AverageTemperature  AverageTemperatureUncertainty    City  \\\n",
       "30016  1796-01-01              24.317                          2.190  Bombay   \n",
       "30017  1796-02-01              23.923                          1.484  Bombay   \n",
       "30018  1796-03-01              24.407                          2.309  Bombay   \n",
       "30019  1796-04-01              27.171                          1.650  Bombay   \n",
       "30020  1796-05-01              29.050                          1.290  Bombay   \n",
       "\n",
       "      Country Latitude Longitude  Year  \n",
       "30016   India   18.48N    72.68E  1796  \n",
       "30017   India   18.48N    72.68E  1796  \n",
       "30018   India   18.48N    72.68E  1796  \n",
       "30019   India   18.48N    72.68E  1796  \n",
       "30020   India   18.48N    72.68E  1796  "
      ]
     },
     "execution_count": 61,
     "metadata": {},
     "output_type": "execute_result"
    }
   ],
   "source": [
    "cities_df.head()"
   ]
  },
  {
   "cell_type": "code",
   "execution_count": 62,
   "metadata": {},
   "outputs": [
    {
     "data": {
      "text/html": [
       "<div>\n",
       "<style scoped>\n",
       "    .dataframe tbody tr th:only-of-type {\n",
       "        vertical-align: middle;\n",
       "    }\n",
       "\n",
       "    .dataframe tbody tr th {\n",
       "        vertical-align: top;\n",
       "    }\n",
       "\n",
       "    .dataframe thead th {\n",
       "        text-align: right;\n",
       "    }\n",
       "</style>\n",
       "<table border=\"1\" class=\"dataframe\">\n",
       "  <thead>\n",
       "    <tr style=\"text-align: right;\">\n",
       "      <th></th>\n",
       "      <th>dt</th>\n",
       "      <th>AverageTemperature</th>\n",
       "      <th>AverageTemperatureUncertainty</th>\n",
       "      <th>City</th>\n",
       "      <th>Country</th>\n",
       "      <th>Latitude</th>\n",
       "      <th>Longitude</th>\n",
       "      <th>Year</th>\n",
       "    </tr>\n",
       "  </thead>\n",
       "  <tbody>\n",
       "    <tr>\n",
       "      <th>31864</th>\n",
       "      <td>1950-01-01</td>\n",
       "      <td>24.028</td>\n",
       "      <td>0.364</td>\n",
       "      <td>Bombay</td>\n",
       "      <td>India</td>\n",
       "      <td>18.48N</td>\n",
       "      <td>72.68E</td>\n",
       "      <td>1950</td>\n",
       "    </tr>\n",
       "    <tr>\n",
       "      <th>31865</th>\n",
       "      <td>1950-02-01</td>\n",
       "      <td>22.553</td>\n",
       "      <td>0.357</td>\n",
       "      <td>Bombay</td>\n",
       "      <td>India</td>\n",
       "      <td>18.48N</td>\n",
       "      <td>72.68E</td>\n",
       "      <td>1950</td>\n",
       "    </tr>\n",
       "    <tr>\n",
       "      <th>31866</th>\n",
       "      <td>1950-03-01</td>\n",
       "      <td>25.088</td>\n",
       "      <td>0.367</td>\n",
       "      <td>Bombay</td>\n",
       "      <td>India</td>\n",
       "      <td>18.48N</td>\n",
       "      <td>72.68E</td>\n",
       "      <td>1950</td>\n",
       "    </tr>\n",
       "    <tr>\n",
       "      <th>31867</th>\n",
       "      <td>1950-04-01</td>\n",
       "      <td>27.288</td>\n",
       "      <td>0.289</td>\n",
       "      <td>Bombay</td>\n",
       "      <td>India</td>\n",
       "      <td>18.48N</td>\n",
       "      <td>72.68E</td>\n",
       "      <td>1950</td>\n",
       "    </tr>\n",
       "    <tr>\n",
       "      <th>31868</th>\n",
       "      <td>1950-05-01</td>\n",
       "      <td>29.165</td>\n",
       "      <td>0.523</td>\n",
       "      <td>Bombay</td>\n",
       "      <td>India</td>\n",
       "      <td>18.48N</td>\n",
       "      <td>72.68E</td>\n",
       "      <td>1950</td>\n",
       "    </tr>\n",
       "    <tr>\n",
       "      <th>31869</th>\n",
       "      <td>1950-06-01</td>\n",
       "      <td>28.983</td>\n",
       "      <td>0.341</td>\n",
       "      <td>Bombay</td>\n",
       "      <td>India</td>\n",
       "      <td>18.48N</td>\n",
       "      <td>72.68E</td>\n",
       "      <td>1950</td>\n",
       "    </tr>\n",
       "    <tr>\n",
       "      <th>31870</th>\n",
       "      <td>1950-07-01</td>\n",
       "      <td>26.905</td>\n",
       "      <td>0.384</td>\n",
       "      <td>Bombay</td>\n",
       "      <td>India</td>\n",
       "      <td>18.48N</td>\n",
       "      <td>72.68E</td>\n",
       "      <td>1950</td>\n",
       "    </tr>\n",
       "    <tr>\n",
       "      <th>31871</th>\n",
       "      <td>1950-08-01</td>\n",
       "      <td>27.244</td>\n",
       "      <td>0.278</td>\n",
       "      <td>Bombay</td>\n",
       "      <td>India</td>\n",
       "      <td>18.48N</td>\n",
       "      <td>72.68E</td>\n",
       "      <td>1950</td>\n",
       "    </tr>\n",
       "    <tr>\n",
       "      <th>31872</th>\n",
       "      <td>1950-09-01</td>\n",
       "      <td>27.033</td>\n",
       "      <td>0.354</td>\n",
       "      <td>Bombay</td>\n",
       "      <td>India</td>\n",
       "      <td>18.48N</td>\n",
       "      <td>72.68E</td>\n",
       "      <td>1950</td>\n",
       "    </tr>\n",
       "    <tr>\n",
       "      <th>31873</th>\n",
       "      <td>1950-10-01</td>\n",
       "      <td>27.344</td>\n",
       "      <td>0.320</td>\n",
       "      <td>Bombay</td>\n",
       "      <td>India</td>\n",
       "      <td>18.48N</td>\n",
       "      <td>72.68E</td>\n",
       "      <td>1950</td>\n",
       "    </tr>\n",
       "    <tr>\n",
       "      <th>31874</th>\n",
       "      <td>1950-11-01</td>\n",
       "      <td>26.344</td>\n",
       "      <td>0.535</td>\n",
       "      <td>Bombay</td>\n",
       "      <td>India</td>\n",
       "      <td>18.48N</td>\n",
       "      <td>72.68E</td>\n",
       "      <td>1950</td>\n",
       "    </tr>\n",
       "    <tr>\n",
       "      <th>31875</th>\n",
       "      <td>1950-12-01</td>\n",
       "      <td>24.464</td>\n",
       "      <td>0.604</td>\n",
       "      <td>Bombay</td>\n",
       "      <td>India</td>\n",
       "      <td>18.48N</td>\n",
       "      <td>72.68E</td>\n",
       "      <td>1950</td>\n",
       "    </tr>\n",
       "    <tr>\n",
       "      <th>31876</th>\n",
       "      <td>1951-01-01</td>\n",
       "      <td>23.778</td>\n",
       "      <td>0.529</td>\n",
       "      <td>Bombay</td>\n",
       "      <td>India</td>\n",
       "      <td>18.48N</td>\n",
       "      <td>72.68E</td>\n",
       "      <td>1951</td>\n",
       "    </tr>\n",
       "  </tbody>\n",
       "</table>\n",
       "</div>"
      ],
      "text/plain": [
       "               dt  AverageTemperature  AverageTemperatureUncertainty    City  \\\n",
       "31864  1950-01-01              24.028                          0.364  Bombay   \n",
       "31865  1950-02-01              22.553                          0.357  Bombay   \n",
       "31866  1950-03-01              25.088                          0.367  Bombay   \n",
       "31867  1950-04-01              27.288                          0.289  Bombay   \n",
       "31868  1950-05-01              29.165                          0.523  Bombay   \n",
       "31869  1950-06-01              28.983                          0.341  Bombay   \n",
       "31870  1950-07-01              26.905                          0.384  Bombay   \n",
       "31871  1950-08-01              27.244                          0.278  Bombay   \n",
       "31872  1950-09-01              27.033                          0.354  Bombay   \n",
       "31873  1950-10-01              27.344                          0.320  Bombay   \n",
       "31874  1950-11-01              26.344                          0.535  Bombay   \n",
       "31875  1950-12-01              24.464                          0.604  Bombay   \n",
       "31876  1951-01-01              23.778                          0.529  Bombay   \n",
       "\n",
       "      Country Latitude Longitude  Year  \n",
       "31864   India   18.48N    72.68E  1950  \n",
       "31865   India   18.48N    72.68E  1950  \n",
       "31866   India   18.48N    72.68E  1950  \n",
       "31867   India   18.48N    72.68E  1950  \n",
       "31868   India   18.48N    72.68E  1950  \n",
       "31869   India   18.48N    72.68E  1950  \n",
       "31870   India   18.48N    72.68E  1950  \n",
       "31871   India   18.48N    72.68E  1950  \n",
       "31872   India   18.48N    72.68E  1950  \n",
       "31873   India   18.48N    72.68E  1950  \n",
       "31874   India   18.48N    72.68E  1950  \n",
       "31875   India   18.48N    72.68E  1950  \n",
       "31876   India   18.48N    72.68E  1951  "
      ]
     },
     "execution_count": 62,
     "metadata": {},
     "output_type": "execute_result"
    }
   ],
   "source": [
    "cities_and_years_df=cities_df.loc[cities_df[\"Year\"] > 1949]\n",
    "cities_and_years_df.head(13)"
   ]
  },
  {
   "cell_type": "code",
   "execution_count": 63,
   "metadata": {},
   "outputs": [
    {
     "data": {
      "text/plain": [
       "['Beijing',\n",
       " 'Bombay',\n",
       " 'Cairo',\n",
       " 'Delhi',\n",
       " 'Dhaka',\n",
       " 'Karachi',\n",
       " 'Mexico City',\n",
       " 'Sao Paulo',\n",
       " 'Shanghai',\n",
       " 'Tokyo']"
      ]
     },
     "execution_count": 63,
     "metadata": {},
     "output_type": "execute_result"
    }
   ],
   "source": [
    "group_by_year = cities_and_years_df.groupby(['Year','City','Country']).mean().reset_index()\n",
    "top10 = group_by_year.head(10)\n",
    "top10\n",
    "top_cities=top10[\"City\"].tolist()\n",
    "top_cities"
   ]
  },
  {
   "cell_type": "code",
   "execution_count": 64,
   "metadata": {},
   "outputs": [
    {
     "name": "stdout",
     "output_type": "stream",
     "text": [
      "https://populationstat.com/China/Beijing\n",
      "https://populationstat.com/India/Bombay\n",
      "https://populationstat.com/Egypt/Cairo\n",
      "https://populationstat.com/India/Delhi\n",
      "https://populationstat.com/Bangladesh/Dhaka\n",
      "https://populationstat.com/Pakistan/Karachi\n",
      "https://populationstat.com/Mexico/Mexico-City\n",
      "https://populationstat.com/Brazil/Sao-Paulo\n",
      "https://populationstat.com/China/Shanghai\n",
      "https://populationstat.com/Japan/Tokyo\n"
     ]
    }
   ],
   "source": [
    "cities_population_table = pd.DataFrame()\n",
    "n=1\n",
    "for city in top_cities:\n",
    "   #print(city)\n",
    "    line = top10.loc[top10[\"City\"] == city,:]\n",
    "    country=line[\"Country\"].tolist()[0]\n",
    "    city=city.replace(\" \",\"-\")\n",
    "    #print(country)\n",
    "    city_population_table=pd.DataFrame()\n",
    "    url_city=\"https://populationstat.com/\"+country+\"/\"+city\n",
    "    print(url_city)\n",
    "    response2=requests.get(url_city)\n",
    "    soup2=bs(response2.content,\"html.parser\")\n",
    "    years=soup2.find_all(\"span\",class_=\"year\")\n",
    "    populations=soup2.find_all(\"span\",class_=\"pop\")\n",
    "    yrs=[]\n",
    "    pops=[]\n",
    "    for year in years:\n",
    "        yr= int(year.text[0:4])\n",
    "        yrs.append(yr)\n",
    "    for population in populations:\n",
    "        pop=population.text[0:1000000000]\n",
    "        pop=pop.replace(\",\",\"\")\n",
    "        pop=int(pop)\n",
    "        pops.append(pop)\n",
    "    city_population_table[\"Year\"]=yrs\n",
    "    city_population_table[\"Population\"]=pops\n",
    "    city_population_table[\"City\"]= city\n",
    "    city_population_table[\"Country\"]= country\n",
    "    if n == 1:\n",
    "        cities_population_table=city_population_table\n",
    "        n=2\n",
    "    else:\n",
    "        cities_population_table=cities_population_table.append(city_population_table)\n",
    "        #print(city_population_table.head())\n",
    "        #print(cities_population_table.tail())"
   ]
  },
  {
   "cell_type": "code",
   "execution_count": 65,
   "metadata": {},
   "outputs": [
    {
     "data": {
      "text/plain": [
       "array(['Beijing', 'Bombay', 'Cairo', 'Delhi', 'Dhaka', 'Karachi',\n",
       "       'Mexico City', 'Sao Paulo', 'Shanghai', 'Tokyo'], dtype=object)"
      ]
     },
     "execution_count": 65,
     "metadata": {},
     "output_type": "execute_result"
    }
   ],
   "source": [
    "cities_population_table.head()\n",
    "cities_population_table[\"City\"] = cities_population_table[\"City\"].str.replace(\"-\",\" \")\n",
    "cities_population_table[\"City\"].unique()"
   ]
  },
  {
   "cell_type": "code",
   "execution_count": 66,
   "metadata": {},
   "outputs": [
    {
     "data": {
      "text/html": [
       "<div>\n",
       "<style scoped>\n",
       "    .dataframe tbody tr th:only-of-type {\n",
       "        vertical-align: middle;\n",
       "    }\n",
       "\n",
       "    .dataframe tbody tr th {\n",
       "        vertical-align: top;\n",
       "    }\n",
       "\n",
       "    .dataframe thead th {\n",
       "        text-align: right;\n",
       "    }\n",
       "</style>\n",
       "<table border=\"1\" class=\"dataframe\">\n",
       "  <thead>\n",
       "    <tr style=\"text-align: right;\">\n",
       "      <th></th>\n",
       "      <th>Year</th>\n",
       "      <th>City</th>\n",
       "      <th>Country</th>\n",
       "      <th>AverageTemperature</th>\n",
       "      <th>AverageTemperatureUncertainty</th>\n",
       "      <th>Population</th>\n",
       "    </tr>\n",
       "  </thead>\n",
       "  <tbody>\n",
       "    <tr>\n",
       "      <th>630</th>\n",
       "      <td>2013</td>\n",
       "      <td>Beijing</td>\n",
       "      <td>China</td>\n",
       "      <td>14.138625</td>\n",
       "      <td>0.658375</td>\n",
       "      <td>17664000</td>\n",
       "    </tr>\n",
       "    <tr>\n",
       "      <th>631</th>\n",
       "      <td>2013</td>\n",
       "      <td>Bombay</td>\n",
       "      <td>India</td>\n",
       "      <td>26.713000</td>\n",
       "      <td>0.509625</td>\n",
       "      <td>18885000</td>\n",
       "    </tr>\n",
       "    <tr>\n",
       "      <th>632</th>\n",
       "      <td>2013</td>\n",
       "      <td>Cairo</td>\n",
       "      <td>Egypt</td>\n",
       "      <td>22.907000</td>\n",
       "      <td>0.476125</td>\n",
       "      <td>18027000</td>\n",
       "    </tr>\n",
       "    <tr>\n",
       "      <th>633</th>\n",
       "      <td>2013</td>\n",
       "      <td>Delhi</td>\n",
       "      <td>India</td>\n",
       "      <td>26.709250</td>\n",
       "      <td>0.548375</td>\n",
       "      <td>24239000</td>\n",
       "    </tr>\n",
       "    <tr>\n",
       "      <th>634</th>\n",
       "      <td>2013</td>\n",
       "      <td>Dhaka</td>\n",
       "      <td>Bangladesh</td>\n",
       "      <td>26.587000</td>\n",
       "      <td>0.512625</td>\n",
       "      <td>16389000</td>\n",
       "    </tr>\n",
       "    <tr>\n",
       "      <th>635</th>\n",
       "      <td>2013</td>\n",
       "      <td>Karachi</td>\n",
       "      <td>Pakistan</td>\n",
       "      <td>27.211625</td>\n",
       "      <td>0.635625</td>\n",
       "      <td>13593000</td>\n",
       "    </tr>\n",
       "    <tr>\n",
       "      <th>636</th>\n",
       "      <td>2013</td>\n",
       "      <td>Mexico City</td>\n",
       "      <td>Mexico</td>\n",
       "      <td>17.342444</td>\n",
       "      <td>0.546111</td>\n",
       "      <td>20850000</td>\n",
       "    </tr>\n",
       "    <tr>\n",
       "      <th>637</th>\n",
       "      <td>2013</td>\n",
       "      <td>Sao Paulo</td>\n",
       "      <td>Brazil</td>\n",
       "      <td>20.066500</td>\n",
       "      <td>0.592375</td>\n",
       "      <td>20387000</td>\n",
       "    </tr>\n",
       "    <tr>\n",
       "      <th>638</th>\n",
       "      <td>2013</td>\n",
       "      <td>Shanghai</td>\n",
       "      <td>China</td>\n",
       "      <td>17.857625</td>\n",
       "      <td>0.588875</td>\n",
       "      <td>22179000</td>\n",
       "    </tr>\n",
       "    <tr>\n",
       "      <th>639</th>\n",
       "      <td>2013</td>\n",
       "      <td>Tokyo</td>\n",
       "      <td>Japan</td>\n",
       "      <td>13.911500</td>\n",
       "      <td>0.526125</td>\n",
       "      <td>37116000</td>\n",
       "    </tr>\n",
       "  </tbody>\n",
       "</table>\n",
       "</div>"
      ],
      "text/plain": [
       "     Year         City     Country  AverageTemperature  \\\n",
       "630  2013      Beijing       China           14.138625   \n",
       "631  2013       Bombay       India           26.713000   \n",
       "632  2013        Cairo       Egypt           22.907000   \n",
       "633  2013        Delhi       India           26.709250   \n",
       "634  2013        Dhaka  Bangladesh           26.587000   \n",
       "635  2013      Karachi    Pakistan           27.211625   \n",
       "636  2013  Mexico City      Mexico           17.342444   \n",
       "637  2013    Sao Paulo      Brazil           20.066500   \n",
       "638  2013     Shanghai       China           17.857625   \n",
       "639  2013        Tokyo       Japan           13.911500   \n",
       "\n",
       "     AverageTemperatureUncertainty  Population  \n",
       "630                       0.658375    17664000  \n",
       "631                       0.509625    18885000  \n",
       "632                       0.476125    18027000  \n",
       "633                       0.548375    24239000  \n",
       "634                       0.512625    16389000  \n",
       "635                       0.635625    13593000  \n",
       "636                       0.546111    20850000  \n",
       "637                       0.592375    20387000  \n",
       "638                       0.588875    22179000  \n",
       "639                       0.526125    37116000  "
      ]
     },
     "execution_count": 66,
     "metadata": {},
     "output_type": "execute_result"
    }
   ],
   "source": [
    "final_df = group_by_year.merge(cities_population_table, on = [\"Year\",\"City\",\"Country\"])\n",
    "#final_df = pd.concat([group_by_year, cities_population_table], sort=False)\n",
    "#final_df = final_df.drop(columns=['B', 'C'])\n",
    "final_df.tail(10)\n"
   ]
  },
  {
   "cell_type": "code",
   "execution_count": 67,
   "metadata": {},
   "outputs": [
    {
     "data": {
      "text/plain": [
       "year                               int64\n",
       "city                              object\n",
       "country                           object\n",
       "averagetemperature               float64\n",
       "averagetemperatureuncertainty    float64\n",
       "population                         int64\n",
       "dtype: object"
      ]
     },
     "execution_count": 67,
     "metadata": {},
     "output_type": "execute_result"
    }
   ],
   "source": [
    "final_transformed = final_df.rename(columns = {\"Year\": \"year\", \"City\":\"city\", \"Country\":\"country\", \n",
    "                                              \"AverageTemperature\":\"averagetemperature\", \"AverageTemperatureUncertainty\": \n",
    "                                              \"averagetemperatureuncertainty\", \"Population\":\"population\"})\n",
    "\n",
    "final_transformed.head()\n",
    "final_transformed.dtypes"
   ]
  },
  {
   "cell_type": "code",
   "execution_count": 68,
   "metadata": {},
   "outputs": [
    {
     "data": {
      "image/png": "[encoded data removed]",
      "text/plain": [
       "<Figure size 432x288 with 2 Axes>"
      ]
     },
     "metadata": {
      "needs_background": "light"
     },
     "output_type": "display_data"
    }
   ],
   "source": [
    "mexico_df=final_df.loc[final_df[\"City\"] == \"Mexico City\"]\n",
    "\n",
    "\n",
    "fig, ax1 = plt.subplots()\n",
    "color = 'tab:red'\n",
    "ax1.set_xlabel('Years')\n",
    "ax1.set_ylabel('Temperature', color=color)\n",
    "ax1.scatter(mexico_df.Year, mexico_df.AverageTemperature, color = color)\n",
    "ax1.tick_params(axis='y', labelcolor=color)\n",
    "ax2 = ax1.twinx()  \n",
    "color = 'tab:blue'\n",
    "ax2.set_ylabel('Population', color=color)\n",
    "ax2.plot(mexico_df.Year, mexico_df.Population/1000000, color=color)\n",
    "#ax2.set_yticks(ax2.get_yticks()[::2])\n",
    "ax2.tick_params(axis='y', labelcolor=color)\n",
    "plt.title(\"Mexico Temperature And Population through the years\")\n",
    "\n",
    "\n",
    "fig.tight_layout()  \n",
    "plt.show()\n",
    "fig.savefig(\"Mexico City Plot.png\")\n"
   ]
  },
  {
   "cell_type": "code",
   "execution_count": 69,
   "metadata": {},
   "outputs": [
    {
     "data": {
      "image/png": "[encoded data removed]",
      "text/plain": [
       "<Figure size 432x288 with 2 Axes>"
      ]
     },
     "metadata": {
      "needs_background": "light"
     },
     "output_type": "display_data"
    }
   ],
   "source": [
    "dhaka_df=final_df.loc[final_df[\"City\"] == \"Dhaka\"]\n",
    "\n",
    "fig, ax1 = plt.subplots()\n",
    "color = 'tab:red'\n",
    "ax1.set_xlabel('Years')\n",
    "ax1.set_ylabel('Temperature', color=color)\n",
    "ax1.scatter(dhaka_df.Year, dhaka_df.AverageTemperature, color = color)\n",
    "ax1.tick_params(axis='y', labelcolor=color)\n",
    "ax2 = ax1.twinx()  \n",
    "color = 'tab:blue'\n",
    "ax2.set_ylabel('Population', color=color)\n",
    "ax2.plot(dhaka_df.Year, dhaka_df.Population/1000000, color=color)\n",
    "#ax2.set_yticks(ax2.get_yticks()[::2])\n",
    "ax2.tick_params(axis='y', labelcolor=color)\n",
    "plt.title(\"Dhaka Temperature And Population through the years\")\n",
    "\n",
    "fig.tight_layout()  \n",
    "plt.show()\n",
    "fig.savefig(\"Dhaka Plot.png\")"
   ]
  },
  {
   "cell_type": "code",
   "execution_count": 70,
   "metadata": {},
   "outputs": [
    {
     "data": {
      "image/png": "[encoded data removed]",
      "text/plain": [
       "<Figure size 432x288 with 2 Axes>"
      ]
     },
     "metadata": {
      "needs_background": "light"
     },
     "output_type": "display_data"
    }
   ],
   "source": [
    "beijing_df=final_df.loc[final_df[\"City\"] == \"Beijing\"]\n",
    "\n",
    "fig, ax1 = plt.subplots()\n",
    "color = 'tab:red'\n",
    "ax1.set_xlabel('Years')\n",
    "ax1.set_ylabel('Temperature', color=color)\n",
    "ax1.scatter(beijing_df.Year, beijing_df.AverageTemperature, color = color)\n",
    "ax1.tick_params(axis='y', labelcolor=color)\n",
    "ax2 = ax1.twinx()  \n",
    "color = 'tab:blue'\n",
    "ax2.set_ylabel('Population', color=color)\n",
    "ax2.plot(beijing_df.Year, beijing_df.Population/1000000, color=color)\n",
    "#ax2.set_yticks(ax2.get_yticks()[::2])\n",
    "ax2.tick_params(axis='y', labelcolor=color)\n",
    "plt.title(\"Beijing Temperature And Population through the years\")\n",
    "\n",
    "fig.tight_layout()  \n",
    "plt.show()\n",
    "fig.savefig(\"Beijing Plot.png\")\n"
   ]
  },
  {
   "cell_type": "code",
   "execution_count": 71,
   "metadata": {},
   "outputs": [
    {
     "data": {
      "image/png": "[encoded data removed]",
      "text/plain": [
       "<Figure size 432x288 with 2 Axes>"
      ]
     },
     "metadata": {
      "needs_background": "light"
     },
     "output_type": "display_data"
    }
   ],
   "source": [
    "cairo_df=final_df.loc[final_df[\"City\"] == \"Cairo\"]\n",
    "\n",
    "fig, ax1 = plt.subplots()\n",
    "color = 'tab:red'\n",
    "ax1.set_xlabel('Years')\n",
    "ax1.set_ylabel('Temperature', color=color)\n",
    "ax1.scatter(cairo_df.Year, cairo_df.AverageTemperature, color = color)\n",
    "ax1.tick_params(axis='y', labelcolor=color)\n",
    "ax2 = ax1.twinx()  \n",
    "color = 'tab:blue'\n",
    "ax2.set_ylabel('Population', color=color)\n",
    "ax2.plot(cairo_df.Year, cairo_df.Population/1000000, color=color)\n",
    "#ax2.set_yticks(ax2.get_yticks()[::2])\n",
    "ax2.tick_params(axis='y', labelcolor=color)\n",
    "plt.title(\"Cairo Temperature And Population through the years\")\n",
    "\n",
    "fig.tight_layout()  \n",
    "plt.show()\n",
    "fig.savefig(\"Cairo Plot.png\")"
   ]
  },
  {
   "cell_type": "code",
   "execution_count": 72,
   "metadata": {},
   "outputs": [
    {
     "data": {
      "image/png": "[encoded data removed]",
      "text/plain": [
       "<Figure size 432x288 with 2 Axes>"
      ]
     },
     "metadata": {
      "needs_background": "light"
     },
     "output_type": "display_data"
    }
   ],
   "source": [
    "delhi_df=final_df.loc[final_df[\"City\"] == \"Delhi\"]\n",
    "\n",
    "fig, ax1 = plt.subplots()\n",
    "color = 'tab:red'\n",
    "ax1.set_xlabel('Years')\n",
    "ax1.set_ylabel('Temperature', color=color)\n",
    "ax1.scatter(delhi_df.Year, delhi_df.AverageTemperature, color = color)\n",
    "ax1.tick_params(axis='y', labelcolor=color)\n",
    "ax2 = ax1.twinx()  \n",
    "color = 'tab:blue'\n",
    "ax2.set_ylabel('Population', color=color)\n",
    "ax2.plot(delhi_df.Year, delhi_df.Population/1000000, color=color)\n",
    "#ax2.set_yticks(ax2.get_yticks()[::2])\n",
    "ax2.tick_params(axis='y', labelcolor=color)\n",
    "plt.title(\"Delhi Temperature And Population through the years\")\n",
    "\n",
    "fig.tight_layout()  \n",
    "plt.show()\n",
    "fig.savefig(\"Delhi Plot.png\")"
   ]
  },
  {
   "cell_type": "code",
   "execution_count": 73,
   "metadata": {},
   "outputs": [
    {
     "data": {
      "image/png": "[encoded data removed]",
      "text/plain": [
       "<Figure size 432x288 with 2 Axes>"
      ]
     },
     "metadata": {
      "needs_background": "light"
     },
     "output_type": "display_data"
    }
   ],
   "source": [
    "karachi_df=final_df.loc[final_df[\"City\"] == \"Karachi\"]\n",
    "\n",
    "fig, ax1 = plt.subplots()\n",
    "color = 'tab:red'\n",
    "ax1.set_xlabel('Years')\n",
    "ax1.set_ylabel('Temperature', color=color)\n",
    "ax1.scatter(karachi_df.Year, karachi_df.AverageTemperature, color = color)\n",
    "ax1.tick_params(axis='y', labelcolor=color)\n",
    "ax2 = ax1.twinx()  \n",
    "color = 'tab:blue'\n",
    "ax2.set_ylabel('Population', color=color)\n",
    "ax2.plot(karachi_df.Year, karachi_df.Population/1000000, color=color)\n",
    "#ax2.set_yticks(ax2.get_yticks()[::2])\n",
    "ax2.tick_params(axis='y', labelcolor=color)\n",
    "plt.title(\"Karachi Temperature And Population through the years\")\n",
    "\n",
    "fig.tight_layout()  \n",
    "plt.show()\n",
    "fig.savefig(\"Karachi Plot.png\")"
   ]
  },
  {
   "cell_type": "code",
   "execution_count": 74,
   "metadata": {},
   "outputs": [
    {
     "data": {
      "image/png": "[encoded data removed]",
      "text/plain": [
       "<Figure size 432x288 with 2 Axes>"
      ]
     },
     "metadata": {
      "needs_background": "light"
     },
     "output_type": "display_data"
    }
   ],
   "source": [
    "sao_paulo_df=final_df.loc[final_df[\"City\"] == \"Sao Paulo\"]\n",
    "\n",
    "fig, ax1 = plt.subplots()\n",
    "color = 'tab:red'\n",
    "ax1.set_xlabel('Years')\n",
    "ax1.set_ylabel('Temperature', color=color)\n",
    "ax1.scatter(sao_paulo_df.Year, sao_paulo_df.AverageTemperature, color = color)\n",
    "ax1.tick_params(axis='y', labelcolor=color)\n",
    "ax2 = ax1.twinx()  \n",
    "color = 'tab:blue'\n",
    "ax2.set_ylabel('Population', color=color)\n",
    "ax2.plot(sao_paulo_df.Year, sao_paulo_df.Population/1000000, color=color)\n",
    "#ax2.set_yticks(ax2.get_yticks()[::2])\n",
    "ax2.tick_params(axis='y', labelcolor=color)\n",
    "plt.title(\"Sao Paulo Temperature And Population through the years\")\n",
    "\n",
    "fig.tight_layout()  \n",
    "plt.show()\n",
    "fig.savefig(\"Sao Paulo Plot.png\")"
   ]
  },
  {
   "cell_type": "code",
   "execution_count": 75,
   "metadata": {},
   "outputs": [
    {
     "data": {
      "image/png": "[encoded data removed]",
      "text/plain": [
       "<Figure size 432x288 with 2 Axes>"
      ]
     },
     "metadata": {
      "needs_background": "light"
     },
     "output_type": "display_data"
    }
   ],
   "source": [
    "shanghai_df=final_df.loc[final_df[\"City\"] == \"Shanghai\"]\n",
    "\n",
    "fig, ax1 = plt.subplots()\n",
    "color = 'tab:red'\n",
    "ax1.set_xlabel('Years')\n",
    "ax1.set_ylabel('Temperature', color=color)\n",
    "ax1.scatter(shanghai_df.Year, shanghai_df.AverageTemperature, color = color)\n",
    "ax1.tick_params(axis='y', labelcolor=color)\n",
    "ax2 = ax1.twinx()  \n",
    "color = 'tab:blue'\n",
    "ax2.set_ylabel('Population', color=color)\n",
    "ax2.plot(shanghai_df.Year, shanghai_df.Population/1000000, color=color)\n",
    "#ax2.set_yticks(ax2.get_yticks()[::2])\n",
    "ax2.tick_params(axis='y', labelcolor=color)\n",
    "plt.title(\"Shanghai Temperature And Population through the years\")\n",
    "\n",
    "fig.tight_layout()  \n",
    "plt.show()\n",
    "fig.savefig(\"Shanghai Plot.png\")"
   ]
  },
  {
   "cell_type": "code",
   "execution_count": 77,
   "metadata": {},
   "outputs": [
    {
     "data": {
      "text/plain": [
       "<function matplotlib.pyplot.show(*args, **kw)>"
      ]
     },
     "execution_count": 77,
     "metadata": {},
     "output_type": "execute_result"
    },
    {
     "data": {
      "image/png": "[encoded data removed]",
      "text/plain": [
       "<Figure size 432x288 with 2 Axes>"
      ]
     },
     "metadata": {
      "needs_background": "light"
     },
     "output_type": "display_data"
    }
   ],
   "source": [
    "tokyo_df=final_df.loc[final_df[\"City\"] == \"Tokyo\"]\n",
    "\n",
    "fig, ax1 = plt.subplots()\n",
    "color = 'tab:red'\n",
    "ax1.set_xlabel('Years')\n",
    "ax1.set_ylabel('Temperature', color=color)\n",
    "ax1.scatter(tokyo_df.Year, tokyo_df.AverageTemperature, color = color)\n",
    "ax1.tick_params(axis='y', labelcolor=color)\n",
    "ax2 = ax1.twinx()  \n",
    "color = 'tab:blue'\n",
    "ax2.set_ylabel('Population', color=color)\n",
    "ax2.plot(tokyo_df.Year, tokyo_df.Population/1000000, color=color)\n",
    "#ax2.set_yticks(ax2.get_yticks()[::2])\n",
    "ax2.tick_params(axis='y', labelcolor=color)\n",
    "plt.title(\"Tokyo Temperature And Population through the years\")\n",
    "\n",
    "fig.tight_layout()  \n",
    "fig.savefig(\"Tokyo Plot.png\")\n",
    "plt.show"
   ]
  },
  {
   "cell_type": "code",
   "execution_count": 79,
   "metadata": {},
   "outputs": [
    {
     "data": {
      "text/plain": [
       "<function matplotlib.pyplot.show(*args, **kw)>"
      ]
     },
     "execution_count": 79,
     "metadata": {},
     "output_type": "execute_result"
    },
    {
     "data": {
      "image/png": "[encoded data removed]",
      "text/plain": [
       "<Figure size 432x288 with 2 Axes>"
      ]
     },
     "metadata": {
      "needs_background": "light"
     },
     "output_type": "display_data"
    }
   ],
   "source": [
    "bombay_df=final_df.loc[final_df[\"City\"] == \"Bombay\"]\n",
    "\n",
    "fig, ax1 = plt.subplots()\n",
    "color = 'tab:red'\n",
    "ax1.set_xlabel('Years')\n",
    "ax1.set_ylabel('Temperature', color=color)\n",
    "ax1.scatter(bombay_df.Year, bombay_df.AverageTemperature, color = color)\n",
    "ax1.tick_params(axis='y', labelcolor=color)\n",
    "ax2 = ax1.twinx()  \n",
    "color = 'tab:blue'\n",
    "ax2.set_ylabel('Population', color=color)\n",
    "ax2.plot(bombay_df.Year, bombay_df.Population/1000000, color=color)\n",
    "#ax2.set_yticks(ax2.get_yticks()[::2])\n",
    "ax2.tick_params(axis='y', labelcolor=color)\n",
    "plt.title(\"Bombay Temperature And Population through the years\")\n",
    "\n",
    "fig.tight_layout() \n",
    "fig.savefig(\"Bombay Plot.png\")\n",
    "plt.show"
   ]
  },
  {
   "cell_type": "code",
   "execution_count": 80,
   "metadata": {},
   "outputs": [],
   "source": [
    "connection_string = \"postgres:postgres@localhost:5432/projectETL_db\"\n",
    "engine = create_engine(f'postgresql://{connection_string}')"
   ]
  },
  {
   "cell_type": "code",
   "execution_count": 81,
   "metadata": {},
   "outputs": [
    {
     "data": {
      "text/plain": [
       "['temptopcities']"
      ]
     },
     "execution_count": 81,
     "metadata": {},
     "output_type": "execute_result"
    }
   ],
   "source": [
    "engine.table_names()"
   ]
  },
  {
   "cell_type": "code",
   "execution_count": 82,
   "metadata": {},
   "outputs": [],
   "source": [
    "final_transformed.to_sql(name='temptopcities', con=engine, if_exists='append', index=True)"
   ]
  },
  {
   "cell_type": "code",
   "execution_count": null,
   "metadata": {},
   "outputs": [],
   "source": []
  }
 ],
 "metadata": {
  "kernelspec": {
   "display_name": "Python 3",
   "language": "python",
   "name": "python3"
  },
  "language_info": {
   "codemirror_mode": {
    "name": "ipython",
    "version": 3
   },
   "file_extension": ".py",
   "mimetype": "text/x-python",
   "name": "python",
   "nbconvert_exporter": "python",
   "pygments_lexer": "ipython3",
   "version": "3.7.3"
  }
 },
 "nbformat": 4,
 "nbformat_minor": 2
}
